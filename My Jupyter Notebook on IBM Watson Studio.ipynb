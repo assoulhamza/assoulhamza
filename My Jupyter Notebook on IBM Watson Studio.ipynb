{
    "cells": [
        {
            "metadata": {
                "collapsed": true
            },
            "cell_type": "markdown",
            "source": "# My Jupyter Notebook on IBM Watson Studio\n\n## Assoul Hamza\nFinancial Auditor\n\n*I am interested in data science because I would to manipulate and analyze the financial data.*\n\nThe following code tests the Gauss formula"
        },
        {
            "metadata": {},
            "cell_type": "code",
            "source": "def gauss(n):\n    return (n*(n+1))/2\ngauss(100) == sum(range(101))\n",
            "execution_count": 1,
            "outputs": [
                {
                    "output_type": "execute_result",
                    "execution_count": 1,
                    "data": {
                        "text/plain": "True"
                    },
                    "metadata": {}
                }
            ]
        },
        {
            "metadata": {},
            "cell_type": "markdown",
            "source": "- one\n- two\n- three\n- one\n- two\n- three\n\n| Markdown      | Less | Pretty |\n| ----------- | ----------- | ----------- |\n| Still      | renders       |nicely       |\n| 1   | 2        |3       |\n\nwww.ibm.com\n"
        },
        {
            "metadata": {},
            "cell_type": "code",
            "source": "",
            "execution_count": null,
            "outputs": []
        },
        {
            "metadata": {},
            "cell_type": "code",
            "source": "",
            "execution_count": null,
            "outputs": []
        }
    ],
    "metadata": {
        "kernelspec": {
            "name": "python3",
            "display_name": "Python 3.8",
            "language": "python"
        },
        "language_info": {
            "name": "python",
            "version": "3.8.12",
            "mimetype": "text/x-python",
            "codemirror_mode": {
                "name": "ipython",
                "version": 3
            },
            "pygments_lexer": "ipython3",
            "nbconvert_exporter": "python",
            "file_extension": ".py"
        }
    },
    "nbformat": 4,
    "nbformat_minor": 1
}