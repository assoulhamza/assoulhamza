{
    "cells": [
        {
            "cell_type": "markdown",
            "metadata": {
                "collapsed": true
            },
            "source": "# My Jupyter Notebook on IBM Watson Studio\n\n## Assoul Hamza\nFinancial Auditor\n\n*I am interested in data science because I would to manipulate and analyze the financial data.*\n\nThe following code tests the Gauss formula"
        },
        {
            "cell_type": "code",
            "execution_count": 1,
            "metadata": {},
            "outputs": [
                {
                    "data": {
                        "text/plain": "True"
                    },
                    "execution_count": 1,
                    "metadata": {},
                    "output_type": "execute_result"
                }
            ],
            "source": "def gauss(n):\n    return (n*(n+1))/2\ngauss(100) == sum(range(101))\n"
        },
        {
            "cell_type": "markdown",
            "metadata": {},
            "source": "- one\n- two\n- three\n- one\n- two\n- three\n\n| Markdown      | Less | Pretty |\n| ----------- | ----------- | ----------- |\n| Still      | renders       |nicely       |\n| 1   | 2        |3       |\n\nwww.ibm.com\n"
        },
        {
            "cell_type": "code",
            "execution_count": null,
            "metadata": {},
            "outputs": [],
            "source": ""
        }
    ],
    "metadata": {
        "kernelspec": {
            "display_name": "Python 3.8",
            "language": "python",
            "name": "python3"
        },
        "language_info": {
            "codemirror_mode": {
                "name": "ipython",
                "version": 3
            },
            "file_extension": ".py",
            "mimetype": "text/x-python",
            "name": "python",
            "nbconvert_exporter": "python",
            "pygments_lexer": "ipython3",
            "version": "3.8.12"
        }
    },
    "nbformat": 4,
    "nbformat_minor": 1
}